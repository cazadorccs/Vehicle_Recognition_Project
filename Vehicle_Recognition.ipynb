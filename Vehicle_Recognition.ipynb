{
 "cells": [
  {
   "cell_type": "code",
   "execution_count": 1,
   "id": "055c1efe",
   "metadata": {},
   "outputs": [],
   "source": [
    "#Importing libraries"
   ]
  },
  {
   "cell_type": "code",
   "execution_count": 2,
   "id": "df352eb6",
   "metadata": {},
   "outputs": [],
   "source": [
    "##################\n",
    "\n",
    "# Ignore  the warnings\n",
    "import warnings\n",
    "warnings.filterwarnings('always')\n",
    "warnings.filterwarnings('ignore')\n",
    "\n",
    "# data visualisation and manipulation\n",
    "import numpy as np\n",
    "import pandas as pd\n",
    "import matplotlib.pyplot as plt\n",
    "from matplotlib import style\n",
    "import seaborn as sns\n",
    " \n",
    "#configure\n",
    "# sets matplotlib to inline and displays graphs below the corressponding cell.\n",
    "%matplotlib inline  \n",
    "style.use('fivethirtyeight')\n",
    "sns.set(style='whitegrid',color_codes=True)\n",
    "\n",
    "#model selection\n",
    "from sklearn.model_selection import train_test_split\n",
    "from sklearn.model_selection import KFold\n",
    "from sklearn.metrics import accuracy_score,precision_score,recall_score,confusion_matrix,roc_curve,roc_auc_score\n",
    "from sklearn.model_selection import GridSearchCV\n",
    "from sklearn.preprocessing import LabelEncoder\n",
    "\n",
    "#preprocess.\n",
    "from keras.preprocessing.image import ImageDataGenerator\n",
    "#import tensorflow as tf\n",
    "\n",
    "#dl libraraies\n",
    "from keras import backend as K\n",
    "from keras.models import Sequential\n",
    "from keras.layers import Dense\n",
    "from tensorflow.keras.optimizers import Adam,SGD,Adagrad,Adadelta,RMSprop\n",
    "from tensorflow.keras.utils import to_categorical\n",
    "\n",
    "# specifically for cnn\n",
    "from keras.layers import Dropout, Flatten,Activation\n",
    "from keras.layers import Conv2D, MaxPooling2D, BatchNormalization\n",
    " \n",
    "import tensorflow as tf\n",
    "import random as rn\n",
    "\n",
    "# specifically for manipulating zipped images and getting numpy arrays of pixel values of images.\n",
    "from cv2 import cv2                  \n",
    "#import numpy as np  \n",
    "from tqdm import tqdm\n",
    "import os                   \n",
    "from random import shuffle  \n",
    "from zipfile import ZipFile\n",
    "from PIL import Image\n",
    "\n",
    "\n",
    "##################"
   ]
  },
  {
   "cell_type": "code",
   "execution_count": 3,
   "id": "00abf019",
   "metadata": {},
   "outputs": [],
   "source": [
    "#Data Preprocessing"
   ]
  },
  {
   "cell_type": "code",
   "execution_count": 4,
   "id": "5eb789be",
   "metadata": {},
   "outputs": [],
   "source": [
    "#Training Image processing"
   ]
  },
  {
   "cell_type": "code",
   "execution_count": 5,
   "id": "5d848ec8",
   "metadata": {},
   "outputs": [
    {
     "name": "stdout",
     "output_type": "stream",
     "text": [
      "Found 2324 images belonging to 3 classes.\n"
     ]
    }
   ],
   "source": [
    "train_datagen = ImageDataGenerator(\n",
    "        rescale=1./255,\n",
    "        shear_range=0.2,\n",
    "        zoom_range=0.2,\n",
    "        horizontal_flip=True)\n",
    "training_set=train_datagen.flow_from_directory(\n",
    "        'training_set',\n",
    "        target_size=(64,64),\n",
    "        batch_size=32,\n",
    "        class_mode='categorical')"
   ]
  },
  {
   "cell_type": "code",
   "execution_count": 6,
   "id": "b0b1f8d2",
   "metadata": {},
   "outputs": [],
   "source": [
    "#Test imagen processing"
   ]
  },
  {
   "cell_type": "code",
   "execution_count": 7,
   "id": "f1ad9d64",
   "metadata": {},
   "outputs": [
    {
     "name": "stdout",
     "output_type": "stream",
     "text": [
      "Found 1502 images belonging to 3 classes.\n"
     ]
    }
   ],
   "source": [
    "test_datagen = ImageDataGenerator(rescale=1./255)\n",
    "test_set = test_datagen.flow_from_directory(\n",
    "        'test_set',\n",
    "        target_size=(64,64),\n",
    "        batch_size=32,\n",
    "        class_mode='categorical')"
   ]
  },
  {
   "cell_type": "code",
   "execution_count": 8,
   "id": "14009c05",
   "metadata": {},
   "outputs": [],
   "source": [
    "# Building Model, Now we will create the architecture of our neural network"
   ]
  },
  {
   "cell_type": "code",
   "execution_count": 9,
   "id": "feab8998",
   "metadata": {},
   "outputs": [],
   "source": [
    "# First we create an empty Sequential model. "
   ]
  },
  {
   "cell_type": "code",
   "execution_count": 10,
   "id": "e2dace10",
   "metadata": {},
   "outputs": [],
   "source": [
    "# This model means that we will create a series of sequential layers of neurons, \"one in front of the other\"."
   ]
  },
  {
   "cell_type": "code",
   "execution_count": 11,
   "id": "791389bb",
   "metadata": {},
   "outputs": [],
   "source": [
    "cnn=tf.keras.models.Sequential() \n",
    "# The Sequential class:\n",
    "# Sequential groups a linear stack of layers into a tf.keras.Model."
   ]
  },
  {
   "cell_type": "code",
   "execution_count": 12,
   "id": "3ffc001e",
   "metadata": {},
   "outputs": [],
   "source": [
    "#Building Convolution Layer"
   ]
  },
  {
   "cell_type": "code",
   "execution_count": 13,
   "id": "e3423d98",
   "metadata": {},
   "outputs": [],
   "source": [
    "cnn.add(tf.keras.layers.Conv2D(filters=64,kernel_size=3,activation='relu',input_shape=[64,64,3]))\n",
    "# 2D convolution layer:This layer creates a convolution kernel that is convolved,\n",
    "# with the layer input to produce a tensor of outputs.\n",
    "# Arguments:\n",
    "# filters: Integer, the dimensionality of the output space (i.e. the number of output filters in the convolution).\n",
    "# kernel_size: An integer or tuple/list of 2 integers, specifying the height and width of the 2D convolution window. \n",
    "# Can be a single integer to specify the same value for all spatial dimensions.\n",
    "# activation: Activation function to use. \n",
    "# Relu: Applies the rectified linear unit activation function.\n",
    "# input_shape: When using this layer as the first layer in a model, provide the keyword argument input_shape \n",
    "# (tuple of integers or None, does not include the sample axis), e.g. input_shape=(64, 64, 3) \n",
    "# for 64x64 RGB pictures in data_format=\"channels_last\". "
   ]
  },
  {
   "cell_type": "code",
   "execution_count": 14,
   "id": "5faaa65f",
   "metadata": {},
   "outputs": [],
   "source": [
    "cnn.add(tf.keras.layers.MaxPool2D(pool_size=2,strides=2))\n",
    "# Max pooling operation for 2D spatial data:\n",
    "# Downsamples the input along its spatial dimensions (height and width) by taking the maximum value over an input window,\n",
    "# (of size defined by pool_size) for each channel of the input. The window is shifted by strides along each dimension."
   ]
  },
  {
   "cell_type": "code",
   "execution_count": 15,
   "id": "c304202b",
   "metadata": {},
   "outputs": [],
   "source": [
    "cnn.add(tf.keras.layers.Conv2D(filters=64,kernel_size=3,activation='relu'))\n",
    "cnn.add(tf.keras.layers.MaxPool2D(pool_size=2,strides=2))"
   ]
  },
  {
   "cell_type": "code",
   "execution_count": 16,
   "id": "e3a47346",
   "metadata": {},
   "outputs": [],
   "source": [
    "cnn.add(tf.keras.layers.Dropout(0.5))\n",
    "# Dropout class:\n",
    "# Applies Dropout to the input.The Dropout layer randomly sets input units to 0 with a frequency of rate at each step during \n",
    "# training time, which helps prevent overfitting. Inputs not set to 0 are scaled up by 1/(1 - rate) \n",
    "# such that the sum over all inputs is unchanged."
   ]
  },
  {
   "cell_type": "code",
   "execution_count": 17,
   "id": "e51bcdfd",
   "metadata": {},
   "outputs": [],
   "source": [
    "cnn.add(tf.keras.layers.Flatten()) \n",
    "# Flatten class: Flattens the input. Does not affect the batch size.\n",
    "# Note: If inputs are shaped (batch,) without a feature axis, then flattening adds an extra channel \n",
    "# dimension and output shape is (batch, 1)."
   ]
  },
  {
   "cell_type": "code",
   "execution_count": 18,
   "id": "485703af",
   "metadata": {},
   "outputs": [],
   "source": [
    "cnn.add(tf.keras.layers.Dense(units=128, activation='relu')) \n",
    "# Layer activation functions\n",
    "# Relu: Applies the rectified linear unit activation function."
   ]
  },
  {
   "cell_type": "code",
   "execution_count": 19,
   "id": "e6b1f69c",
   "metadata": {},
   "outputs": [],
   "source": [
    "cnn.add(tf.keras.layers.Dense(units=3, activation='softmax'))\n",
    "# Layer activation functions\n",
    "# Arguments:\n",
    "# softmax: Softmax converts a vector of values to a probability distribution."
   ]
  },
  {
   "cell_type": "code",
   "execution_count": 20,
   "id": "69f8e04c",
   "metadata": {},
   "outputs": [],
   "source": [
    "cnn.compile(optimizer='rmsprop',loss='categorical_crossentropy',metrics=['accuracy'])\n",
    "# Compilation: Before training a model, you need to configure the learning process, \n",
    "# which is done via the compile method. It receives three arguments:\n",
    "# an optimizer. This could be the string identifier of an existing optimizer (such as rmsprop or adagrad), \n",
    "    # or an instance of the Optimizer class.\n",
    "# RMSProp optimizer. It is recommended to leave the parameters of this optimizer at their default values \n",
    "# (except the learning rate, which can be freely tuned).\n",
    "# a loss function. This is the objective that the model will try to minimize. It can be the string identifier of an \n",
    "    # existing loss function (such as categorical_crossentropy or mse), or it can be an objective function.\n",
    "# categorical_crossentropy: Also known as multiclass logloss.\n",
    "# a list of metrics. For any classification problem you will want to set this to metrics=['accuracy']. \n",
    "    # A metric could be the string identifier of an existing metric (only accuracy is supported at this point), \n",
    "    # or a custom metric function."
   ]
  },
  {
   "cell_type": "code",
   "execution_count": 21,
   "id": "0935013b",
   "metadata": {},
   "outputs": [],
   "source": [
    "#Summary"
   ]
  },
  {
   "cell_type": "code",
   "execution_count": 22,
   "id": "9f81c6d5",
   "metadata": {},
   "outputs": [
    {
     "name": "stdout",
     "output_type": "stream",
     "text": [
      "Model: \"sequential\"\n",
      "_________________________________________________________________\n",
      " Layer (type)                Output Shape              Param #   \n",
      "=================================================================\n",
      " conv2d (Conv2D)             (None, 62, 62, 64)        1792      \n",
      "                                                                 \n",
      " max_pooling2d (MaxPooling2D  (None, 31, 31, 64)       0         \n",
      " )                                                               \n",
      "                                                                 \n",
      " conv2d_1 (Conv2D)           (None, 29, 29, 64)        36928     \n",
      "                                                                 \n",
      " max_pooling2d_1 (MaxPooling  (None, 14, 14, 64)       0         \n",
      " 2D)                                                             \n",
      "                                                                 \n",
      " dropout (Dropout)           (None, 14, 14, 64)        0         \n",
      "                                                                 \n",
      " flatten (Flatten)           (None, 12544)             0         \n",
      "                                                                 \n",
      " dense (Dense)               (None, 128)               1605760   \n",
      "                                                                 \n",
      " dense_1 (Dense)             (None, 3)                 387       \n",
      "                                                                 \n",
      "=================================================================\n",
      "Total params: 1,644,867\n",
      "Trainable params: 1,644,867\n",
      "Non-trainable params: 0\n",
      "_________________________________________________________________\n"
     ]
    }
   ],
   "source": [
    "cnn.summary() #Prints a string summary of the network.\n",
    "# Call model.summary() to print a useful summary of the model, including:\n",
    "# Name and type of all layers in the model.\n",
    "# Output shape for each layer.\n",
    "# Number of weight parameters for each layer.\n",
    "# If the model has general topology (discussed below), the inputs that each layer receives.\n",
    "# The total number of trainable and untrainable parameters of the model."
   ]
  },
  {
   "cell_type": "code",
   "execution_count": 23,
   "id": "925ff295",
   "metadata": {},
   "outputs": [],
   "source": [
    "# Training & evaluation with the built-in methods"
   ]
  },
  {
   "cell_type": "code",
   "execution_count": 24,
   "id": "de105ef8",
   "metadata": {},
   "outputs": [
    {
     "name": "stdout",
     "output_type": "stream",
     "text": [
      "Epoch 1/60\n",
      "73/73 [==============================] - 41s 545ms/step - loss: 1.1081 - accuracy: 0.4677 - val_loss: 1.0233 - val_accuracy: 0.5453\n",
      "Epoch 2/60\n",
      "73/73 [==============================] - 39s 533ms/step - loss: 0.9130 - accuracy: 0.5835 - val_loss: 0.7186 - val_accuracy: 0.6884\n",
      "Epoch 3/60\n",
      "73/73 [==============================] - 39s 536ms/step - loss: 0.8419 - accuracy: 0.6213 - val_loss: 0.7130 - val_accuracy: 0.6911\n",
      "Epoch 4/60\n",
      "73/73 [==============================] - 39s 536ms/step - loss: 0.8038 - accuracy: 0.6416 - val_loss: 0.6170 - val_accuracy: 0.7490\n",
      "Epoch 5/60\n",
      "73/73 [==============================] - 39s 537ms/step - loss: 0.7820 - accuracy: 0.6506 - val_loss: 0.6160 - val_accuracy: 0.7430\n",
      "Epoch 6/60\n",
      "73/73 [==============================] - 43s 591ms/step - loss: 0.7300 - accuracy: 0.6751 - val_loss: 0.5572 - val_accuracy: 0.7716\n",
      "Epoch 7/60\n",
      "73/73 [==============================] - 39s 533ms/step - loss: 0.7127 - accuracy: 0.6941 - val_loss: 0.5705 - val_accuracy: 0.7643\n",
      "Epoch 8/60\n",
      "73/73 [==============================] - 41s 566ms/step - loss: 0.6957 - accuracy: 0.7014 - val_loss: 0.5713 - val_accuracy: 0.7683\n",
      "Epoch 9/60\n",
      "73/73 [==============================] - 40s 543ms/step - loss: 0.6492 - accuracy: 0.7268 - val_loss: 0.6304 - val_accuracy: 0.7270\n",
      "Epoch 10/60\n",
      "73/73 [==============================] - 39s 533ms/step - loss: 0.6260 - accuracy: 0.7362 - val_loss: 0.4988 - val_accuracy: 0.7936\n",
      "Epoch 11/60\n",
      "73/73 [==============================] - 39s 532ms/step - loss: 0.6276 - accuracy: 0.7358 - val_loss: 0.4463 - val_accuracy: 0.8289\n",
      "Epoch 12/60\n",
      "73/73 [==============================] - 43s 588ms/step - loss: 0.5738 - accuracy: 0.7689 - val_loss: 0.4448 - val_accuracy: 0.8089\n",
      "Epoch 13/60\n",
      "73/73 [==============================] - 44s 608ms/step - loss: 0.5789 - accuracy: 0.7603 - val_loss: 0.4584 - val_accuracy: 0.8003\n",
      "Epoch 14/60\n",
      "73/73 [==============================] - 41s 563ms/step - loss: 0.5348 - accuracy: 0.7784 - val_loss: 0.4950 - val_accuracy: 0.7883\n",
      "Epoch 15/60\n",
      "73/73 [==============================] - 41s 564ms/step - loss: 0.5205 - accuracy: 0.7831 - val_loss: 0.3928 - val_accuracy: 0.8542\n",
      "Epoch 16/60\n",
      "73/73 [==============================] - 40s 552ms/step - loss: 0.5136 - accuracy: 0.7887 - val_loss: 0.3839 - val_accuracy: 0.8449\n",
      "Epoch 17/60\n",
      "73/73 [==============================] - 41s 563ms/step - loss: 0.5039 - accuracy: 0.8038 - val_loss: 0.3833 - val_accuracy: 0.8329\n",
      "Epoch 18/60\n",
      "73/73 [==============================] - 41s 567ms/step - loss: 0.4915 - accuracy: 0.7995 - val_loss: 0.4025 - val_accuracy: 0.8302\n",
      "Epoch 19/60\n",
      "73/73 [==============================] - 48s 658ms/step - loss: 0.4621 - accuracy: 0.8124 - val_loss: 0.3874 - val_accuracy: 0.8402\n",
      "Epoch 20/60\n",
      "73/73 [==============================] - 44s 601ms/step - loss: 0.4735 - accuracy: 0.8068 - val_loss: 0.3624 - val_accuracy: 0.8589\n",
      "Epoch 21/60\n",
      "73/73 [==============================] - 41s 565ms/step - loss: 0.4648 - accuracy: 0.8094 - val_loss: 0.4601 - val_accuracy: 0.8103\n",
      "Epoch 22/60\n",
      "73/73 [==============================] - 42s 575ms/step - loss: 0.4371 - accuracy: 0.8275 - val_loss: 0.3425 - val_accuracy: 0.8722\n",
      "Epoch 23/60\n",
      "73/73 [==============================] - 44s 603ms/step - loss: 0.4194 - accuracy: 0.8318 - val_loss: 0.2951 - val_accuracy: 0.8895\n",
      "Epoch 24/60\n",
      "73/73 [==============================] - 42s 578ms/step - loss: 0.4411 - accuracy: 0.8244 - val_loss: 0.3058 - val_accuracy: 0.8868\n",
      "Epoch 25/60\n",
      "73/73 [==============================] - 46s 631ms/step - loss: 0.3944 - accuracy: 0.8455 - val_loss: 0.3617 - val_accuracy: 0.8529\n",
      "Epoch 26/60\n",
      "73/73 [==============================] - 41s 558ms/step - loss: 0.4066 - accuracy: 0.8399 - val_loss: 0.2764 - val_accuracy: 0.8955\n",
      "Epoch 27/60\n",
      "73/73 [==============================] - 44s 603ms/step - loss: 0.3964 - accuracy: 0.8412 - val_loss: 0.3228 - val_accuracy: 0.8782\n",
      "Epoch 28/60\n",
      "73/73 [==============================] - 39s 540ms/step - loss: 0.3866 - accuracy: 0.8537 - val_loss: 0.2626 - val_accuracy: 0.9008\n",
      "Epoch 29/60\n",
      "73/73 [==============================] - 40s 551ms/step - loss: 0.3746 - accuracy: 0.8528 - val_loss: 0.2781 - val_accuracy: 0.8948\n",
      "Epoch 30/60\n",
      "73/73 [==============================] - 43s 585ms/step - loss: 0.3528 - accuracy: 0.8606 - val_loss: 0.2706 - val_accuracy: 0.8928\n",
      "Epoch 31/60\n",
      "73/73 [==============================] - 45s 612ms/step - loss: 0.3695 - accuracy: 0.8541 - val_loss: 0.2822 - val_accuracy: 0.8948\n",
      "Epoch 32/60\n",
      "73/73 [==============================] - 41s 557ms/step - loss: 0.3331 - accuracy: 0.8791 - val_loss: 0.2071 - val_accuracy: 0.9314\n",
      "Epoch 33/60\n",
      "73/73 [==============================] - 43s 582ms/step - loss: 0.3186 - accuracy: 0.8739 - val_loss: 0.2510 - val_accuracy: 0.9168\n",
      "Epoch 34/60\n",
      "73/73 [==============================] - 42s 569ms/step - loss: 0.3286 - accuracy: 0.8817 - val_loss: 0.3027 - val_accuracy: 0.8848\n",
      "Epoch 35/60\n",
      "73/73 [==============================] - 42s 577ms/step - loss: 0.3316 - accuracy: 0.8787 - val_loss: 0.3062 - val_accuracy: 0.8921\n",
      "Epoch 36/60\n",
      "73/73 [==============================] - 42s 575ms/step - loss: 0.3082 - accuracy: 0.8769 - val_loss: 0.2058 - val_accuracy: 0.9288\n",
      "Epoch 37/60\n",
      "73/73 [==============================] - 42s 579ms/step - loss: 0.3073 - accuracy: 0.8791 - val_loss: 0.2117 - val_accuracy: 0.9161\n",
      "Epoch 38/60\n",
      "73/73 [==============================] - 43s 591ms/step - loss: 0.3006 - accuracy: 0.8907 - val_loss: 0.2535 - val_accuracy: 0.9141\n",
      "Epoch 39/60\n",
      "73/73 [==============================] - 42s 573ms/step - loss: 0.3000 - accuracy: 0.8851 - val_loss: 0.4837 - val_accuracy: 0.8076\n",
      "Epoch 40/60\n",
      "73/73 [==============================] - 39s 539ms/step - loss: 0.2949 - accuracy: 0.8864 - val_loss: 0.2029 - val_accuracy: 0.9301\n",
      "Epoch 41/60\n",
      "73/73 [==============================] - 41s 565ms/step - loss: 0.3113 - accuracy: 0.8851 - val_loss: 0.2794 - val_accuracy: 0.9028\n",
      "Epoch 42/60\n",
      "73/73 [==============================] - 40s 550ms/step - loss: 0.2854 - accuracy: 0.8898 - val_loss: 0.1732 - val_accuracy: 0.9441\n",
      "Epoch 43/60\n",
      "73/73 [==============================] - 39s 533ms/step - loss: 0.2834 - accuracy: 0.8916 - val_loss: 0.1784 - val_accuracy: 0.9441\n",
      "Epoch 44/60\n",
      "73/73 [==============================] - 39s 537ms/step - loss: 0.2681 - accuracy: 0.9028 - val_loss: 0.2104 - val_accuracy: 0.9328\n",
      "Epoch 45/60\n",
      "73/73 [==============================] - 39s 527ms/step - loss: 0.2741 - accuracy: 0.9053 - val_loss: 0.2543 - val_accuracy: 0.9055\n",
      "Epoch 46/60\n",
      "73/73 [==============================] - 41s 555ms/step - loss: 0.2648 - accuracy: 0.8993 - val_loss: 0.2558 - val_accuracy: 0.9261\n",
      "Epoch 47/60\n",
      "73/73 [==============================] - 40s 544ms/step - loss: 0.2759 - accuracy: 0.9058 - val_loss: 0.1467 - val_accuracy: 0.9507\n",
      "Epoch 48/60\n",
      "73/73 [==============================] - 39s 528ms/step - loss: 0.2568 - accuracy: 0.9010 - val_loss: 0.1253 - val_accuracy: 0.9587\n",
      "Epoch 49/60\n",
      "73/73 [==============================] - 39s 533ms/step - loss: 0.2465 - accuracy: 0.9028 - val_loss: 0.1716 - val_accuracy: 0.9467\n",
      "Epoch 50/60\n",
      "73/73 [==============================] - 39s 536ms/step - loss: 0.2492 - accuracy: 0.9058 - val_loss: 0.2287 - val_accuracy: 0.9301\n",
      "Epoch 51/60\n",
      "73/73 [==============================] - 39s 532ms/step - loss: 0.2306 - accuracy: 0.9083 - val_loss: 0.1548 - val_accuracy: 0.9434\n",
      "Epoch 52/60\n",
      "73/73 [==============================] - 39s 531ms/step - loss: 0.2239 - accuracy: 0.9204 - val_loss: 0.1839 - val_accuracy: 0.9321\n",
      "Epoch 53/60\n",
      "73/73 [==============================] - 39s 532ms/step - loss: 0.2348 - accuracy: 0.9170 - val_loss: 0.4021 - val_accuracy: 0.8835\n",
      "Epoch 54/60\n",
      "73/73 [==============================] - 39s 528ms/step - loss: 0.2552 - accuracy: 0.9075 - val_loss: 0.3409 - val_accuracy: 0.9088\n",
      "Epoch 55/60\n",
      "73/73 [==============================] - 38s 522ms/step - loss: 0.2350 - accuracy: 0.9182 - val_loss: 0.1994 - val_accuracy: 0.9301\n",
      "Epoch 56/60\n",
      "73/73 [==============================] - 39s 529ms/step - loss: 0.2410 - accuracy: 0.9101 - val_loss: 0.1721 - val_accuracy: 0.9447\n",
      "Epoch 57/60\n",
      "73/73 [==============================] - 38s 525ms/step - loss: 0.2315 - accuracy: 0.9191 - val_loss: 0.2570 - val_accuracy: 0.9001\n"
     ]
    },
    {
     "name": "stdout",
     "output_type": "stream",
     "text": [
      "Epoch 58/60\n",
      "73/73 [==============================] - 40s 542ms/step - loss: 0.2000 - accuracy: 0.9281 - val_loss: 0.1400 - val_accuracy: 0.9527\n",
      "Epoch 59/60\n",
      "73/73 [==============================] - 42s 572ms/step - loss: 0.2060 - accuracy: 0.9243 - val_loss: 0.2280 - val_accuracy: 0.9301\n",
      "Epoch 60/60\n",
      "73/73 [==============================] - 39s 537ms/step - loss: 0.2126 - accuracy: 0.9286 - val_loss: 0.1450 - val_accuracy: 0.9554\n"
     ]
    }
   ],
   "source": [
    "History = cnn.fit(x=training_set,validation_data=test_set,epochs=60)\n",
    "# Class weights\n",
    "# This is set by passing a dictionary to the class_weight argument to Model.fit(). \n",
    "    # This dictionary maps class indices to the weight # that should be used for samples belonging to this class.\n",
    "# This can be used to balance classes without resampling, or to train a model that gives more importance to a particular class.\n",
    "\n",
    "# Arguments: "
   ]
  },
  {
   "cell_type": "code",
   "execution_count": 26,
   "id": "06efe864",
   "metadata": {},
   "outputs": [],
   "source": [
    "#Evaluating the Model Performance"
   ]
  },
  {
   "cell_type": "code",
   "execution_count": 27,
   "id": "04d8f6d2",
   "metadata": {},
   "outputs": [
    {
     "data": {
      "image/png": "[encoded data removed]",
      "text/plain": [
       "<Figure size 432x288 with 1 Axes>"
      ]
     },
     "metadata": {},
     "output_type": "display_data"
    }
   ],
   "source": [
    "plt.plot(History.history['accuracy'])\n",
    "plt.plot(History.history['val_accuracy'])\n",
    "plt.title('Model Accuracy')\n",
    "plt.ylabel('Accuracy')\n",
    "plt.xlabel('Epochs')\n",
    "plt.legend(['train', 'test'])\n",
    "plt.show()"
   ]
  },
  {
   "cell_type": "code",
   "execution_count": 28,
   "id": "d9c9c463",
   "metadata": {},
   "outputs": [],
   "source": [
    "# The plots are provided below. The history for the validation dataset is labeled test by convention \n",
    "# as it is indeed a test dataset for the model.\n",
    "\n",
    "# From the plot of accuracy we can see that the model could probably be trained a \n",
    "# little more as the trend for accuracy on both datasets is still rising for the last few epochs. \n",
    "# We can also see that the model has not yet over-learned the training dataset, \n",
    "# showing comparable skill on both datasets."
   ]
  },
  {
   "cell_type": "code",
   "execution_count": 29,
   "id": "00301b8d",
   "metadata": {},
   "outputs": [
    {
     "data": {
      "image/png": "[encoded data removed]",
      "text/plain": [
       "<Figure size 432x288 with 1 Axes>"
      ]
     },
     "metadata": {},
     "output_type": "display_data"
    }
   ],
   "source": [
    "plt.plot(History.history['loss'])\n",
    "plt.plot(History.history['val_loss'])\n",
    "plt.title('Model Loss')\n",
    "plt.ylabel('Loss')\n",
    "plt.xlabel('Epochs')\n",
    "plt.legend(['train', 'test'])\n",
    "plt.show()"
   ]
  },
  {
   "cell_type": "code",
   "execution_count": 30,
   "id": "9a52d807",
   "metadata": {},
   "outputs": [],
   "source": [
    "# From the plot of loss, we can see that the model has comparable performance \n",
    "# on both train and validation datasets (labeled test). \n",
    "# If these parallel plots start to depart consistently, \n",
    "# it might be a sign to stop training at an earlier epoch."
   ]
  },
  {
   "cell_type": "code",
   "execution_count": 45,
   "id": "edd7fe29",
   "metadata": {},
   "outputs": [],
   "source": [
    "#Preprocess New Image"
   ]
  },
  {
   "cell_type": "code",
   "execution_count": 51,
   "id": "52201f1b",
   "metadata": {},
   "outputs": [],
   "source": [
    "from keras.preprocessing import image\n",
    "test_image = image.load_img('Prediction/Search_and_Rescue.jpg',target_size=(64,64))\n",
    "test_image = image.img_to_array(test_image)\n",
    "test_image = np.expand_dims(test_image,axis=0)\n",
    "result = cnn.predict(test_image)"
   ]
  },
  {
   "cell_type": "code",
   "execution_count": 52,
   "id": "382f01f2",
   "metadata": {},
   "outputs": [],
   "source": [
    "# Keras Preprocessing is the data preprocessing and data augmentation module of the Keras deep learning library. \n",
    "# It provides utilities for working with image data, text data, and sequence data."
   ]
  },
  {
   "cell_type": "code",
   "execution_count": 53,
   "id": "7db4b1d1",
   "metadata": {},
   "outputs": [
    {
     "data": {
      "text/plain": [
       "{'Emergency_Vehicles': 0, 'cars': 1, 'suv': 2}"
      ]
     },
     "execution_count": 53,
     "metadata": {},
     "output_type": "execute_result"
    }
   ],
   "source": [
    "training_set.class_indices"
   ]
  },
  {
   "cell_type": "code",
   "execution_count": 54,
   "id": "f0580626",
   "metadata": {},
   "outputs": [
    {
     "name": "stdout",
     "output_type": "stream",
     "text": [
      "Vehicles_Emergency\n"
     ]
    }
   ],
   "source": [
    "if result[0][0]==1:\n",
    "    print('Vehicles_Emergency')\n",
    "elif result[0][1]==1:\n",
    "    print('Car')\n",
    "elif result[0][2]==1:\n",
    "    print('Suv')"
   ]
  },
  {
   "cell_type": "code",
   "execution_count": 55,
   "id": "d25a8303",
   "metadata": {},
   "outputs": [
    {
     "name": "stdout",
     "output_type": "stream",
     "text": [
      "[[1. 0. 0.]]\n"
     ]
    }
   ],
   "source": [
    "print(result)"
   ]
  }
 ],
 "metadata": {
  "kernelspec": {
   "display_name": "Python 3",
   "language": "python",
   "name": "python3"
  },
  "language_info": {
   "codemirror_mode": {
    "name": "ipython",
    "version": 3
   },
   "file_extension": ".py",
   "mimetype": "text/x-python",
   "name": "python",
   "nbconvert_exporter": "python",
   "pygments_lexer": "ipython3",
   "version": "3.8.8"
  }
 },
 "nbformat": 4,
 "nbformat_minor": 5
}

{
 "cells": [
  {
   "cell_type": "code",
   "execution_count": 1,
   "id": "055c1efe",
   "metadata": {},
   "outputs": [],
   "source": [
    "#IMPORTING LIBRARIES"
   ]
  },
  {
   "cell_type": "code",
   "execution_count": 2,
   "id": "df352eb6",
   "metadata": {},
   "outputs": [],
   "source": [
    "##################\n",
    "\n",
    "# IGNORE  THE WARNINGS\n",
    "import warnings\n",
    "warnings.filterwarnings('always') # always prints matching warnings\n",
    "warnings.filterwarnings('ignore') # Ignore all warnings\n",
    "\n",
    "# DATA VISUALISATION AND MANIPULATION\n",
    "import numpy as np\n",
    "import matplotlib.pyplot as plt # Matplotlib is a comprehensive library for creating static, \n",
    "# animated, and interactive visualizations in Python. Matplotlib makes easy things easy and hard things possible.\n",
    "from matplotlib import style\n",
    "import seaborn as sns # Seaborn is a Python data visualization library based on matplotlib. \n",
    "# It provides a high-level interface for drawing attractive and informative statistical graphics.\n",
    " \n",
    "# Configure\n",
    "# sets matplotlib to inline and displays graphs below the corressponding cell.\n",
    "# the \"fivethirtyeight\" is a graphic style for display graphs\n",
    "%matplotlib inline  \n",
    "style.use('fivethirtyeight') \n",
    "sns.set(style='whitegrid',color_codes=True) \n",
    "\n",
    "# DEEP LEARNING (DL) LIBRARIES\n",
    "from keras.models import Sequential # A Sequential model is appropriate \n",
    "                                    # for a plain stack of layers where each layer has exactly \n",
    "                                    # one input tensor and one output tensor.\n",
    "from keras.layers import Dense      # We define a new dense layer\n",
    "from tensorflow.keras.optimizers import RMSprop #Adam,SGD,Adagrad,Adadelta,\n",
    "from tensorflow.keras.utils import to_categorical\n",
    "\n",
    "# LIBRARIES SPECIFICALLY FOR CNN\n",
    "from keras.layers import Activation # Dropout, Flatten, \n",
    "from keras.layers import Conv2D # MaxPooling2D, BatchNormalization\n",
    "\n",
    "#PREPROCESS.\n",
    "from keras.preprocessing.image import ImageDataGenerator\n",
    "import tensorflow as tf\n",
    "import random as rn\n",
    "\n",
    "##################"
   ]
  },
  {
   "cell_type": "code",
   "execution_count": 3,
   "id": "00abf019",
   "metadata": {},
   "outputs": [],
   "source": [
    "#Data Preprocessing"
   ]
  },
  {
   "cell_type": "code",
   "execution_count": 4,
   "id": "5eb789be",
   "metadata": {},
   "outputs": [],
   "source": [
    "#Training Image processing"
   ]
  },
  {
   "cell_type": "code",
   "execution_count": 5,
   "id": "5d848ec8",
   "metadata": {},
   "outputs": [
    {
     "name": "stdout",
     "output_type": "stream",
     "text": [
      "Found 2324 images belonging to 3 classes.\n"
     ]
    }
   ],
   "source": [
    "train_datagen = ImageDataGenerator(\n",
    "        rescale=1./255,\n",
    "        shear_range=0.2,\n",
    "        zoom_range=0.2,\n",
    "        horizontal_flip=True) # Generate batches of tensor image data with real-time data augmentation, Boolean. \n",
    "                              # Randomly flip inputs horizontally.\n",
    "training_set=train_datagen.flow_from_directory(\n",
    "        'training_set',\n",
    "        target_size=(64,64),      # Tuple of integers (height, width), defaults to (256,256). \n",
    "                                  # The dimensions to which all images found will be resized.\n",
    "        batch_size=32,            # size of the batches of data (default: 32).\n",
    "        class_mode='categorical') # if class_mode is \"categorical\" (default value) it must include the y_col \n",
    "                                  # column with the class/es of each image. \n",
    "                                  # Values in column can be string/list/tuple if a single class or list/tuple \n",
    "                                  # if multiple classes."
   ]
  },
  {
   "cell_type": "code",
   "execution_count": 6,
   "id": "b0b1f8d2",
   "metadata": {},
   "outputs": [],
   "source": [
    "#Test imagen processing"
   ]
  },
  {
   "cell_type": "code",
   "execution_count": 7,
   "id": "f1ad9d64",
   "metadata": {},
   "outputs": [
    {
     "name": "stdout",
     "output_type": "stream",
     "text": [
      "Found 1502 images belonging to 3 classes.\n"
     ]
    }
   ],
   "source": [
    "test_datagen = ImageDataGenerator(rescale=1./255)\n",
    "test_set = test_datagen.flow_from_directory(\n",
    "        'test_set',\n",
    "        target_size=(64,64),\n",
    "        batch_size=32,\n",
    "        class_mode='categorical')"
   ]
  },
  {
   "cell_type": "code",
   "execution_count": 8,
   "id": "14009c05",
   "metadata": {},
   "outputs": [],
   "source": [
    "# Building Model, Now we will create the architecture of our neural network"
   ]
  },
  {
   "cell_type": "code",
   "execution_count": 9,
   "id": "feab8998",
   "metadata": {},
   "outputs": [],
   "source": [
    "# First we create an empty Sequential model. "
   ]
  },
  {
   "cell_type": "code",
   "execution_count": 10,
   "id": "e2dace10",
   "metadata": {},
   "outputs": [],
   "source": [
    "# This model means that we will create a series of sequential layers of neurons, \"one in front of the other\"."
   ]
  },
  {
   "cell_type": "code",
   "execution_count": 11,
   "id": "791389bb",
   "metadata": {},
   "outputs": [],
   "source": [
    "cnn=tf.keras.models.Sequential() \n",
    "# The Sequential class:\n",
    "# Sequential groups a linear stack of layers into a tf.keras.Model."
   ]
  },
  {
   "cell_type": "code",
   "execution_count": 12,
   "id": "3ffc001e",
   "metadata": {},
   "outputs": [],
   "source": [
    "#Building Convolution Layer"
   ]
  },
  {
   "cell_type": "code",
   "execution_count": 13,
   "id": "e3423d98",
   "metadata": {},
   "outputs": [],
   "source": [
    "cnn.add(tf.keras.layers.Conv2D(filters=64,kernel_size=3,activation='relu',input_shape=[64,64,3]))\n",
    "# 2D convolution layer:This layer creates a convolution kernel that is convolved,\n",
    "# with the layer input to produce a tensor of outputs.\n",
    "# Arguments:\n",
    "# filters: Integer, the dimensionality of the output space (i.e. the number of output filters in the convolution).\n",
    "# kernel_size: An integer or tuple/list of 2 integers, specifying the height and width of the 2D convolution window. \n",
    "# Can be a single integer to specify the same value for all spatial dimensions.\n",
    "# activation: Activation function to use. \n",
    "# Relu: Applies the rectified linear unit activation function.\n",
    "# input_shape: When using this layer as the first layer in a model, provide the keyword argument input_shape \n",
    "# (tuple of integers or None, does not include the sample axis), e.g. input_shape=(64, 64, 3) \n",
    "# for 64x64 RGB pictures in data_format=\"channels_last\". "
   ]
  },
  {
   "cell_type": "code",
   "execution_count": 14,
   "id": "5faaa65f",
   "metadata": {},
   "outputs": [],
   "source": [
    "cnn.add(tf.keras.layers.MaxPool2D(pool_size=2,strides=2))\n",
    "# Max pooling operation for 2D spatial data:\n",
    "# Downsamples the input along its spatial dimensions (height and width) by taking the maximum value over an input window,\n",
    "# (of size defined by pool_size) for each channel of the input. The window is shifted by strides along each dimension."
   ]
  },
  {
   "cell_type": "code",
   "execution_count": 15,
   "id": "c304202b",
   "metadata": {},
   "outputs": [],
   "source": [
    "cnn.add(tf.keras.layers.Conv2D(filters=64,kernel_size=3,activation='relu'))\n",
    "cnn.add(tf.keras.layers.MaxPool2D(pool_size=2,strides=2))"
   ]
  },
  {
   "cell_type": "code",
   "execution_count": 16,
   "id": "e3a47346",
   "metadata": {},
   "outputs": [],
   "source": [
    "cnn.add(tf.keras.layers.Dropout(0.5))\n",
    "# Dropout class:\n",
    "# Applies Dropout to the input.The Dropout layer randomly sets input units to 0 with a frequency of rate at each step during \n",
    "# training time, which helps prevent overfitting. Inputs not set to 0 are scaled up by 1/(1 - rate) \n",
    "# such that the sum over all inputs is unchanged."
   ]
  },
  {
   "cell_type": "code",
   "execution_count": 17,
   "id": "e51bcdfd",
   "metadata": {},
   "outputs": [],
   "source": [
    "cnn.add(tf.keras.layers.Flatten()) \n",
    "# Flatten class: Flattens the input. Does not affect the batch size.\n",
    "# Note: If inputs are shaped (batch,) without a feature axis, then flattening adds an extra channel \n",
    "# dimension and output shape is (batch, 1)."
   ]
  },
  {
   "cell_type": "code",
   "execution_count": 18,
   "id": "485703af",
   "metadata": {},
   "outputs": [],
   "source": [
    "cnn.add(tf.keras.layers.Dense(units=128, activation='relu')) # We define a new dense layer, basically creates a new dense \n",
    "# layer and returns it, which we can use to process our data.\n",
    "# Relu: Applies the rectified linear unit activation function."
   ]
  },
  {
   "cell_type": "code",
   "execution_count": 19,
   "id": "e6b1f69c",
   "metadata": {},
   "outputs": [],
   "source": [
    "cnn.add(tf.keras.layers.Dense(units=3, activation='softmax'))\n",
    "# Arguments:\n",
    "# softmax: Softmax converts a vector of values to a probability distribution."
   ]
  },
  {
   "cell_type": "code",
   "execution_count": 20,
   "id": "69f8e04c",
   "metadata": {},
   "outputs": [],
   "source": [
    "cnn.compile(optimizer='rmsprop',loss='categorical_crossentropy',metrics=['accuracy'])\n",
    "# Compilation: Before training a model, you need to configure the learning process, \n",
    "# which is done via the compile method. It receives three arguments:\n",
    "# an optimizer. This could be the string identifier of an existing optimizer (such as rmsprop or adagrad), \n",
    "    # or an instance of the Optimizer class.\n",
    "# RMSProp optimizer. It is recommended to leave the parameters of this optimizer at their default values \n",
    "# (except the learning rate, which can be freely tuned).\n",
    "# a loss function. This is the objective that the model will try to minimize. It can be the string identifier of an \n",
    "    # existing loss function (such as categorical_crossentropy or mse), or it can be an objective function.\n",
    "# categorical_crossentropy: Also known as multiclass logloss.\n",
    "# a list of metrics. For any classification problem you will want to set this to metrics=['accuracy']. \n",
    "    # A metric could be the string identifier of an existing metric (only accuracy is supported at this point), \n",
    "    # or a custom metric function."
   ]
  },
  {
   "cell_type": "code",
   "execution_count": 21,
   "id": "0935013b",
   "metadata": {},
   "outputs": [],
   "source": [
    "#Summary"
   ]
  },
  {
   "cell_type": "code",
   "execution_count": 22,
   "id": "9f81c6d5",
   "metadata": {},
   "outputs": [
    {
     "name": "stdout",
     "output_type": "stream",
     "text": [
      "Model: \"sequential\"\n",
      "_________________________________________________________________\n",
      " Layer (type)                Output Shape              Param #   \n",
      "=================================================================\n",
      " conv2d (Conv2D)             (None, 62, 62, 64)        1792      \n",
      "                                                                 \n",
      " max_pooling2d (MaxPooling2D  (None, 31, 31, 64)       0         \n",
      " )                                                               \n",
      "                                                                 \n",
      " conv2d_1 (Conv2D)           (None, 29, 29, 64)        36928     \n",
      "                                                                 \n",
      " max_pooling2d_1 (MaxPooling  (None, 14, 14, 64)       0         \n",
      " 2D)                                                             \n",
      "                                                                 \n",
      " dropout (Dropout)           (None, 14, 14, 64)        0         \n",
      "                                                                 \n",
      " flatten (Flatten)           (None, 12544)             0         \n",
      "                                                                 \n",
      " dense (Dense)               (None, 128)               1605760   \n",
      "                                                                 \n",
      " dense_1 (Dense)             (None, 3)                 387       \n",
      "                                                                 \n",
      "=================================================================\n",
      "Total params: 1,644,867\n",
      "Trainable params: 1,644,867\n",
      "Non-trainable params: 0\n",
      "_________________________________________________________________\n"
     ]
    }
   ],
   "source": [
    "cnn.summary() #Prints a string summary of the network.\n",
    "# Call model.summary() to print a useful summary of the model, including:\n",
    "# Name and type of all layers in the model.\n",
    "# Output shape for each layer.\n",
    "# Number of weight parameters for each layer.\n",
    "# If the model has general topology (discussed below), the inputs that each layer receives.\n",
    "# The total number of trainable and untrainable parameters of the model."
   ]
  },
  {
   "cell_type": "code",
   "execution_count": 23,
   "id": "925ff295",
   "metadata": {},
   "outputs": [],
   "source": [
    "# Training & evaluation with the built-in methods"
   ]
  },
  {
   "cell_type": "code",
   "execution_count": 24,
   "id": "de105ef8",
   "metadata": {},
   "outputs": [
    {
     "name": "stdout",
     "output_type": "stream",
     "text": [
      "Epoch 1/60\n",
      "73/73 [==============================] - 55s 716ms/step - loss: 1.0647 - accuracy: 0.4656 - val_loss: 1.0899 - val_accuracy: 0.4774\n",
      "Epoch 2/60\n",
      "73/73 [==============================] - 40s 546ms/step - loss: 0.9015 - accuracy: 0.5878 - val_loss: 0.7431 - val_accuracy: 0.6884\n",
      "Epoch 3/60\n",
      "73/73 [==============================] - 40s 541ms/step - loss: 0.8267 - accuracy: 0.6343 - val_loss: 1.1922 - val_accuracy: 0.4487\n",
      "Epoch 4/60\n",
      "73/73 [==============================] - 39s 538ms/step - loss: 0.7907 - accuracy: 0.6485 - val_loss: 0.6969 - val_accuracy: 0.7091\n",
      "Epoch 5/60\n",
      "73/73 [==============================] - 39s 541ms/step - loss: 0.7562 - accuracy: 0.6725 - val_loss: 0.7979 - val_accuracy: 0.6398\n",
      "Epoch 6/60\n",
      "73/73 [==============================] - 40s 552ms/step - loss: 0.7127 - accuracy: 0.6949 - val_loss: 0.5945 - val_accuracy: 0.7557\n",
      "Epoch 7/60\n",
      "73/73 [==============================] - 40s 545ms/step - loss: 0.7008 - accuracy: 0.6945 - val_loss: 0.5797 - val_accuracy: 0.7397\n",
      "Epoch 8/60\n",
      "73/73 [==============================] - 40s 552ms/step - loss: 0.6650 - accuracy: 0.7199 - val_loss: 0.5098 - val_accuracy: 0.7863\n",
      "Epoch 9/60\n",
      "73/73 [==============================] - 40s 548ms/step - loss: 0.6366 - accuracy: 0.7263 - val_loss: 0.5492 - val_accuracy: 0.7543\n",
      "Epoch 10/60\n",
      "73/73 [==============================] - 40s 543ms/step - loss: 0.6131 - accuracy: 0.7431 - val_loss: 0.4881 - val_accuracy: 0.7896\n",
      "Epoch 11/60\n",
      "73/73 [==============================] - 40s 542ms/step - loss: 0.5981 - accuracy: 0.7478 - val_loss: 0.4503 - val_accuracy: 0.8156\n",
      "Epoch 12/60\n",
      "73/73 [==============================] - 39s 540ms/step - loss: 0.5816 - accuracy: 0.7608 - val_loss: 0.5263 - val_accuracy: 0.7696\n",
      "Epoch 13/60\n",
      "73/73 [==============================] - 40s 547ms/step - loss: 0.5590 - accuracy: 0.7612 - val_loss: 0.4025 - val_accuracy: 0.8362\n",
      "Epoch 14/60\n",
      "73/73 [==============================] - 41s 564ms/step - loss: 0.5471 - accuracy: 0.7741 - val_loss: 0.4445 - val_accuracy: 0.8169\n",
      "Epoch 15/60\n",
      "73/73 [==============================] - 40s 543ms/step - loss: 0.5287 - accuracy: 0.7935 - val_loss: 0.4659 - val_accuracy: 0.8116\n",
      "Epoch 16/60\n",
      "73/73 [==============================] - 40s 544ms/step - loss: 0.5048 - accuracy: 0.8064 - val_loss: 0.3781 - val_accuracy: 0.8635\n",
      "Epoch 17/60\n",
      "73/73 [==============================] - 40s 550ms/step - loss: 0.4931 - accuracy: 0.7986 - val_loss: 0.4157 - val_accuracy: 0.8422\n",
      "Epoch 18/60\n",
      "73/73 [==============================] - 40s 546ms/step - loss: 0.4843 - accuracy: 0.8021 - val_loss: 0.4057 - val_accuracy: 0.8329\n",
      "Epoch 19/60\n",
      "73/73 [==============================] - 40s 543ms/step - loss: 0.4927 - accuracy: 0.7969 - val_loss: 0.3491 - val_accuracy: 0.8549\n",
      "Epoch 20/60\n",
      "73/73 [==============================] - 40s 544ms/step - loss: 0.4743 - accuracy: 0.8059 - val_loss: 0.3951 - val_accuracy: 0.8495\n",
      "Epoch 21/60\n",
      "73/73 [==============================] - 39s 539ms/step - loss: 0.4432 - accuracy: 0.8133 - val_loss: 0.3348 - val_accuracy: 0.8768\n",
      "Epoch 22/60\n",
      "73/73 [==============================] - 40s 548ms/step - loss: 0.4682 - accuracy: 0.8098 - val_loss: 0.3100 - val_accuracy: 0.8828\n",
      "Epoch 23/60\n",
      "73/73 [==============================] - 40s 545ms/step - loss: 0.4383 - accuracy: 0.8309 - val_loss: 0.3722 - val_accuracy: 0.8562\n",
      "Epoch 24/60\n",
      "73/73 [==============================] - 40s 543ms/step - loss: 0.4266 - accuracy: 0.8365 - val_loss: 0.3673 - val_accuracy: 0.8668\n",
      "Epoch 25/60\n",
      "73/73 [==============================] - 40s 541ms/step - loss: 0.4166 - accuracy: 0.8429 - val_loss: 0.2894 - val_accuracy: 0.8815\n",
      "Epoch 26/60\n",
      "73/73 [==============================] - 39s 541ms/step - loss: 0.4221 - accuracy: 0.8287 - val_loss: 0.2985 - val_accuracy: 0.8762\n",
      "Epoch 27/60\n",
      "73/73 [==============================] - 40s 546ms/step - loss: 0.3944 - accuracy: 0.8365 - val_loss: 0.3073 - val_accuracy: 0.8755\n",
      "Epoch 28/60\n",
      "73/73 [==============================] - 39s 541ms/step - loss: 0.3876 - accuracy: 0.8490 - val_loss: 0.2612 - val_accuracy: 0.9121\n",
      "Epoch 29/60\n",
      "73/73 [==============================] - 40s 542ms/step - loss: 0.3876 - accuracy: 0.8455 - val_loss: 0.2857 - val_accuracy: 0.8782\n",
      "Epoch 30/60\n",
      "73/73 [==============================] - 40s 546ms/step - loss: 0.3730 - accuracy: 0.8576 - val_loss: 0.2773 - val_accuracy: 0.9081\n",
      "Epoch 31/60\n",
      "73/73 [==============================] - 39s 540ms/step - loss: 0.3724 - accuracy: 0.8571 - val_loss: 0.3472 - val_accuracy: 0.8748\n",
      "Epoch 32/60\n",
      "73/73 [==============================] - 40s 541ms/step - loss: 0.3657 - accuracy: 0.8610 - val_loss: 0.2467 - val_accuracy: 0.9075\n",
      "Epoch 33/60\n",
      "73/73 [==============================] - 40s 550ms/step - loss: 0.3734 - accuracy: 0.8559 - val_loss: 0.2418 - val_accuracy: 0.9061\n",
      "Epoch 34/60\n",
      "73/73 [==============================] - 40s 542ms/step - loss: 0.3401 - accuracy: 0.8752 - val_loss: 0.2124 - val_accuracy: 0.9241\n",
      "Epoch 35/60\n",
      "73/73 [==============================] - 41s 559ms/step - loss: 0.3516 - accuracy: 0.8606 - val_loss: 0.2653 - val_accuracy: 0.9134\n",
      "Epoch 36/60\n",
      "73/73 [==============================] - 40s 546ms/step - loss: 0.3510 - accuracy: 0.8692 - val_loss: 0.2982 - val_accuracy: 0.9061\n",
      "Epoch 37/60\n",
      "73/73 [==============================] - 40s 541ms/step - loss: 0.3096 - accuracy: 0.8825 - val_loss: 0.2346 - val_accuracy: 0.9115\n",
      "Epoch 38/60\n",
      "73/73 [==============================] - 40s 541ms/step - loss: 0.3173 - accuracy: 0.8769 - val_loss: 0.2211 - val_accuracy: 0.9254\n",
      "Epoch 39/60\n",
      "73/73 [==============================] - 42s 573ms/step - loss: 0.2959 - accuracy: 0.8894 - val_loss: 0.2306 - val_accuracy: 0.9194\n",
      "Epoch 40/60\n",
      "73/73 [==============================] - 39s 539ms/step - loss: 0.2941 - accuracy: 0.8911 - val_loss: 0.4538 - val_accuracy: 0.8595\n",
      "Epoch 41/60\n",
      "73/73 [==============================] - 40s 551ms/step - loss: 0.3035 - accuracy: 0.8920 - val_loss: 0.2265 - val_accuracy: 0.9294\n",
      "Epoch 42/60\n",
      "73/73 [==============================] - 40s 542ms/step - loss: 0.3062 - accuracy: 0.8847 - val_loss: 0.1954 - val_accuracy: 0.9321\n",
      "Epoch 43/60\n",
      "73/73 [==============================] - 39s 540ms/step - loss: 0.2786 - accuracy: 0.8937 - val_loss: 0.2560 - val_accuracy: 0.9115\n",
      "Epoch 44/60\n",
      "73/73 [==============================] - 40s 542ms/step - loss: 0.2871 - accuracy: 0.8993 - val_loss: 0.2388 - val_accuracy: 0.8995\n",
      "Epoch 45/60\n",
      "73/73 [==============================] - 39s 542ms/step - loss: 0.2856 - accuracy: 0.8976 - val_loss: 0.2110 - val_accuracy: 0.9314\n",
      "Epoch 46/60\n",
      "73/73 [==============================] - 39s 539ms/step - loss: 0.2856 - accuracy: 0.8843 - val_loss: 0.2300 - val_accuracy: 0.9228\n",
      "Epoch 47/60\n",
      "73/73 [==============================] - 39s 536ms/step - loss: 0.2958 - accuracy: 0.8933 - val_loss: 0.1559 - val_accuracy: 0.9421\n",
      "Epoch 48/60\n",
      "73/73 [==============================] - 39s 539ms/step - loss: 0.2919 - accuracy: 0.8860 - val_loss: 0.1491 - val_accuracy: 0.9487\n",
      "Epoch 49/60\n",
      "73/73 [==============================] - 39s 539ms/step - loss: 0.2435 - accuracy: 0.9062 - val_loss: 0.1481 - val_accuracy: 0.9521\n",
      "Epoch 50/60\n",
      "73/73 [==============================] - 39s 537ms/step - loss: 0.2572 - accuracy: 0.9066 - val_loss: 0.1650 - val_accuracy: 0.9434\n",
      "Epoch 51/60\n",
      "73/73 [==============================] - 40s 539ms/step - loss: 0.2590 - accuracy: 0.9053 - val_loss: 0.2624 - val_accuracy: 0.9181\n",
      "Epoch 52/60\n",
      "73/73 [==============================] - 40s 542ms/step - loss: 0.2193 - accuracy: 0.9135 - val_loss: 0.2834 - val_accuracy: 0.9288\n",
      "Epoch 53/60\n",
      "73/73 [==============================] - 40s 544ms/step - loss: 0.2332 - accuracy: 0.9161 - val_loss: 0.2106 - val_accuracy: 0.9354\n",
      "Epoch 54/60\n",
      "73/73 [==============================] - 40s 542ms/step - loss: 0.2192 - accuracy: 0.9243 - val_loss: 0.2991 - val_accuracy: 0.9148\n",
      "Epoch 55/60\n",
      "73/73 [==============================] - 40s 539ms/step - loss: 0.2478 - accuracy: 0.9101 - val_loss: 0.1685 - val_accuracy: 0.9534\n",
      "Epoch 56/60\n",
      "73/73 [==============================] - 39s 542ms/step - loss: 0.2389 - accuracy: 0.9131 - val_loss: 0.1843 - val_accuracy: 0.9427\n",
      "Epoch 57/60\n",
      "73/73 [==============================] - 39s 541ms/step - loss: 0.2614 - accuracy: 0.9096 - val_loss: 0.2238 - val_accuracy: 0.9188\n"
     ]
    },
    {
     "name": "stdout",
     "output_type": "stream",
     "text": [
      "Epoch 58/60\n",
      "73/73 [==============================] - 39s 535ms/step - loss: 0.2643 - accuracy: 0.9092 - val_loss: 0.1985 - val_accuracy: 0.9427\n",
      "Epoch 59/60\n",
      "73/73 [==============================] - 39s 537ms/step - loss: 0.2182 - accuracy: 0.9243 - val_loss: 0.1574 - val_accuracy: 0.9521\n",
      "Epoch 60/60\n",
      "73/73 [==============================] - 40s 542ms/step - loss: 0.1982 - accuracy: 0.9316 - val_loss: 0.2159 - val_accuracy: 0.9467\n"
     ]
    }
   ],
   "source": [
    "History = cnn.fit(x=training_set,validation_data=test_set,epochs=60)\n",
    "# Class weights\n",
    "# This is set by passing a dictionary to the class_weight argument to Model.fit(). \n",
    "    # This dictionary maps class indices to the weight # that should be used for samples belonging to this class.\n",
    "# This can be used to balance classes without resampling, or to train a model that gives more importance to a particular class.\n",
    "\n",
    "# Arguments: "
   ]
  },
  {
   "cell_type": "code",
   "execution_count": 25,
   "id": "06efe864",
   "metadata": {},
   "outputs": [],
   "source": [
    "#Evaluating the Model Performance"
   ]
  },
  {
   "cell_type": "code",
   "execution_count": 26,
   "id": "04d8f6d2",
   "metadata": {},
   "outputs": [
    {
     "data": {
      "image/png": "[encoded data removed]",
      "text/plain": [
       "<Figure size 432x288 with 1 Axes>"
      ]
     },
     "metadata": {},
     "output_type": "display_data"
    }
   ],
   "source": [
    "plt.plot(History.history['accuracy'])\n",
    "plt.plot(History.history['val_accuracy'])\n",
    "plt.title('Model Accuracy')\n",
    "plt.ylabel('Accuracy')\n",
    "plt.xlabel('Epochs')\n",
    "plt.legend(['train', 'test'])\n",
    "plt.show()"
   ]
  },
  {
   "cell_type": "code",
   "execution_count": 27,
   "id": "d9c9c463",
   "metadata": {},
   "outputs": [],
   "source": [
    "# The plots are provided below. The history for the validation dataset is labeled test by convention \n",
    "# as it is indeed a test dataset for the model.\n",
    "\n",
    "# From the plot of accuracy we can see that the model could probably be trained a \n",
    "# little more as the trend for accuracy on both datasets is still rising for the last few epochs. \n",
    "# We can also see that the model has not yet over-learned the training dataset, \n",
    "# showing comparable skill on both datasets."
   ]
  },
  {
   "cell_type": "code",
   "execution_count": 28,
   "id": "00301b8d",
   "metadata": {},
   "outputs": [
    {
     "data": {
      "image/png": "[encoded data removed]",
      "text/plain": [
       "<Figure size 432x288 with 1 Axes>"
      ]
     },
     "metadata": {},
     "output_type": "display_data"
    }
   ],
   "source": [
    "plt.plot(History.history['loss'])\n",
    "plt.plot(History.history['val_loss'])\n",
    "plt.title('Model Loss')\n",
    "plt.ylabel('Loss')\n",
    "plt.xlabel('Epochs')\n",
    "plt.legend(['train', 'test'])\n",
    "plt.show()"
   ]
  },
  {
   "cell_type": "code",
   "execution_count": 29,
   "id": "9a52d807",
   "metadata": {},
   "outputs": [],
   "source": [
    "# From the plot of loss, we can see that the model has comparable performance \n",
    "# on both train and validation datasets (labeled test). \n",
    "# If these parallel plots start to depart consistently, \n",
    "# it might be a sign to stop training at an earlier epoch."
   ]
  },
  {
   "cell_type": "code",
   "execution_count": 30,
   "id": "edd7fe29",
   "metadata": {},
   "outputs": [],
   "source": [
    "#Preprocess New Image"
   ]
  },
  {
   "cell_type": "code",
   "execution_count": 31,
   "id": "52201f1b",
   "metadata": {},
   "outputs": [],
   "source": [
    "from keras.preprocessing import image\n",
    "test_image = image.load_img('Prediction/Search_and_Rescue.jpg',target_size=(64,64))\n",
    "test_image = image.img_to_array(test_image)\n",
    "test_image = np.expand_dims(test_image,axis=0)\n",
    "result = cnn.predict(test_image)"
   ]
  },
  {
   "cell_type": "code",
   "execution_count": 32,
   "id": "382f01f2",
   "metadata": {},
   "outputs": [],
   "source": [
    "# Keras Preprocessing is the data preprocessing and data augmentation module of the Keras deep learning library. \n",
    "# It provides utilities for working with image data, text data, and sequence data."
   ]
  },
  {
   "cell_type": "code",
   "execution_count": 33,
   "id": "7db4b1d1",
   "metadata": {},
   "outputs": [
    {
     "data": {
      "text/plain": [
       "{'Emergency_Vehicles': 0, 'cars': 1, 'suv': 2}"
      ]
     },
     "execution_count": 33,
     "metadata": {},
     "output_type": "execute_result"
    }
   ],
   "source": [
    "training_set.class_indices"
   ]
  },
  {
   "cell_type": "code",
   "execution_count": 34,
   "id": "f0580626",
   "metadata": {},
   "outputs": [
    {
     "name": "stdout",
     "output_type": "stream",
     "text": [
      "Vehicles_Emergency\n"
     ]
    }
   ],
   "source": [
    "if result[0][0]==1:\n",
    "    print('Vehicles_Emergency')\n",
    "elif result[0][1]==1:\n",
    "    print('Car')\n",
    "elif result[0][2]==1:\n",
    "    print('Suv')"
   ]
  },
  {
   "cell_type": "code",
   "execution_count": 35,
   "id": "d25a8303",
   "metadata": {},
   "outputs": [
    {
     "name": "stdout",
     "output_type": "stream",
     "text": [
      "[[1. 0. 0.]]\n"
     ]
    }
   ],
   "source": [
    "print(result)"
   ]
  },
  {
   "cell_type": "code",
   "execution_count": null,
   "id": "4daf7ba7",
   "metadata": {},
   "outputs": [],
   "source": []
  }
 ],
 "metadata": {
  "kernelspec": {
   "display_name": "Python 3",
   "language": "python",
   "name": "python3"
  },
  "language_info": {
   "codemirror_mode": {
    "name": "ipython",
    "version": 3
   },
   "file_extension": ".py",
   "mimetype": "text/x-python",
   "name": "python",
   "nbconvert_exporter": "python",
   "pygments_lexer": "ipython3",
   "version": "3.8.8"
  }
 },
 "nbformat": 4,
 "nbformat_minor": 5
}
